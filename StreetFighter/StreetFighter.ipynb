{
 "cells": [
  {
   "cell_type": "code",
   "execution_count": null,
   "metadata": {},
   "outputs": [],
   "source": [
    "# !pip3 install gym gym-retro\n",
    "\n",
    "# !pip uninstall gym\n",
    "# !pip3 install gym==0.21.0"
   ]
  },
  {
   "cell_type": "code",
   "execution_count": 1,
   "metadata": {},
   "outputs": [],
   "source": [
    "import retro\n",
    "import time"
   ]
  },
  {
   "cell_type": "code",
   "execution_count": null,
   "metadata": {},
   "outputs": [],
   "source": [
    "# See the different retro games\n",
    "# retro.data.list_games()"
   ]
  },
  {
   "cell_type": "code",
   "execution_count": 3,
   "metadata": {},
   "outputs": [],
   "source": [
    "# Starts up the game environment\n",
    "#https://wowroms.com/en/roms/list?search=street+fighter+special+champion+edition+usa\n",
    "    # python -m retro.import\n",
    "env = retro.make(game='StreetFighterIISpecialChampionEdition-Genesis')"
   ]
  },
  {
   "cell_type": "code",
   "execution_count": null,
   "metadata": {},
   "outputs": [],
   "source": [
    "#env.close()"
   ]
  },
  {
   "cell_type": "code",
   "execution_count": null,
   "metadata": {},
   "outputs": [],
   "source": [
    "# env.observation_space"
   ]
  },
  {
   "cell_type": "code",
   "execution_count": null,
   "metadata": {},
   "outputs": [],
   "source": [
    "# env.observation_space.sample()"
   ]
  },
  {
   "cell_type": "code",
   "execution_count": null,
   "metadata": {},
   "outputs": [],
   "source": []
  },
  {
   "cell_type": "code",
   "execution_count": null,
   "metadata": {},
   "outputs": [
    {
     "name": "stdout",
     "output_type": "stream",
     "text": [
      "500.0\n",
      "500.0\n",
      "1000.0\n",
      "500.0\n",
      "300.0\n",
      "500.0\n",
      "100.0\n",
      "100.0\n",
      "100.0\n",
      "100.0\n",
      "100.0\n",
      "100.0\n",
      "100.0\n",
      "100.0\n",
      "100.0\n",
      "100.0\n",
      "100.0\n",
      "100.0\n",
      "100.0\n",
      "100.0\n",
      "100.0\n",
      "100.0\n",
      "100.0\n",
      "100.0\n",
      "100.0\n",
      "100.0\n",
      "100.0\n",
      "1000.0\n",
      "10000.0\n",
      "10000.0\n",
      "400.0\n",
      "1000.0\n",
      "500.0\n",
      "100.0\n",
      "500.0\n",
      "100.0\n",
      "1500.0\n",
      "100.0\n",
      "100.0\n",
      "100.0\n",
      "100.0\n",
      "100.0\n",
      "100.0\n",
      "100.0\n",
      "100.0\n",
      "100.0\n",
      "100.0\n",
      "100.0\n",
      "100.0\n",
      "100.0\n",
      "100.0\n",
      "100.0\n",
      "100.0\n",
      "100.0\n",
      "100.0\n",
      "100.0\n",
      "100.0\n",
      "10000.0\n",
      "500.0\n",
      "300.0\n",
      "100.0\n"
     ]
    }
   ],
   "source": [
    "obs = env.reset()\n",
    "# Set flag to flase\n",
    "done = False\n",
    "for game in range(1): \n",
    "    while not done: \n",
    "        if done: \n",
    "            obs = env.reset()\n",
    "        env.render()\n",
    "        obs, reward, done, info = env.step(env.action_space.sample())\n",
    "        time.sleep(0.01)\n",
    "        if reward > 0:\n",
    "            print(reward)"
   ]
  },
  {
   "cell_type": "code",
   "execution_count": null,
   "metadata": {},
   "outputs": [],
   "source": [
    "info"
   ]
  },
  {
   "cell_type": "code",
   "execution_count": null,
   "metadata": {},
   "outputs": [],
   "source": [
    "# env.close()"
   ]
  },
  {
   "cell_type": "markdown",
   "metadata": {},
   "source": [
    "# Setup Environment"
   ]
  },
  {
   "cell_type": "code",
   "execution_count": 2,
   "metadata": {},
   "outputs": [],
   "source": [
    "#Observation preprocess\n",
    "#preprocess---grayscale,frame delta,resize the frame so that we have less pixels\n",
    "# filter the action-parameter\n",
    "\n",
    "from gym import Env\n",
    "from gym.spaces import MultiBinary, Box\n",
    "import numpy as np\n",
    "import cv2\n",
    "import time\n",
    "from matplotlib import pyplot as plt"
   ]
  },
  {
   "cell_type": "code",
   "execution_count": 3,
   "metadata": {},
   "outputs": [],
   "source": [
    "class StreetFighter(Env): \n",
    "    def __init__(self):\n",
    "        super().__init__()\n",
    "        # Specify action space and observation space \n",
    "        self.observation_space = Box(low=0, high=255, shape=(84, 84, 1), dtype=np.uint8)\n",
    "        self.action_space = MultiBinary(12)\n",
    "        # Startup and instance of the game \n",
    "        self.game = retro.make(game='StreetFighterIISpecialChampionEdition-Genesis', use_restricted_actions=retro.Actions.FILTERED)\n",
    "    \n",
    "    def reset(self):\n",
    "        # Return the first frame \n",
    "        obs = self.game.reset()\n",
    "        obs = self.preprocess(obs) \n",
    "        self.previous_frame = obs \n",
    "        \n",
    "        # Create a attribute to hold the score delta \n",
    "        self.score = 0 \n",
    "        return obs\n",
    "    \n",
    "    def preprocess(self, observation): \n",
    "        # Grayscaling \n",
    "        gray = cv2.cvtColor(observation, cv2.COLOR_BGR2GRAY)\n",
    "        # Resize \n",
    "        resize = cv2.resize(gray, (84,84), interpolation=cv2.INTER_CUBIC)\n",
    "        # Add the channels value\n",
    "        channels = np.reshape(resize, (84,84,1))\n",
    "        return channels \n",
    "    \n",
    "    def step(self, action): \n",
    "        # Take a step \n",
    "        obs, reward, done, info = self.game.step(action)\n",
    "        obs = self.preprocess(obs) \n",
    "        \n",
    "        # Frame delta \n",
    "        frame_delta = obs - self.previous_frame\n",
    "        self.previous_frame = obs \n",
    "        \n",
    "        # Reshape the reward function\n",
    "        reward = info['score'] - self.score \n",
    "        self.score = info['score'] \n",
    "        \n",
    "        return frame_delta, reward, done, info\n",
    "    \n",
    "    def render(self, *args, **kwargs):\n",
    "        self.game.render()\n",
    "        \n",
    "    def close(self):\n",
    "        self.game.close()"
   ]
  },
  {
   "cell_type": "code",
   "execution_count": null,
   "metadata": {},
   "outputs": [],
   "source": [
    "env = StreetFighter()"
   ]
  },
  {
   "cell_type": "code",
   "execution_count": null,
   "metadata": {},
   "outputs": [],
   "source": [
    "env.observation_space.shape"
   ]
  },
  {
   "cell_type": "code",
   "execution_count": null,
   "metadata": {},
   "outputs": [],
   "source": [
    "env.action_space.shape"
   ]
  },
  {
   "cell_type": "code",
   "execution_count": null,
   "metadata": {},
   "outputs": [],
   "source": [
    "# Reset game to starting state\n",
    "obs = env.reset()\n",
    "# Set flag to flase\n",
    "done = False\n",
    "for game in range(1): \n",
    "    while not done: \n",
    "        if done: \n",
    "            obs = env.reset()\n",
    "        env.render()\n",
    "        obs, reward, done, info = env.step(env.action_space.sample())\n",
    "        time.sleep(0.01)\n",
    "        if reward > 0: \n",
    "            print(reward)"
   ]
  },
  {
   "cell_type": "code",
   "execution_count": null,
   "metadata": {},
   "outputs": [],
   "source": [
    "obs = env.reset()"
   ]
  },
  {
   "cell_type": "code",
   "execution_count": null,
   "metadata": {},
   "outputs": [],
   "source": [
    "obs, reward, done, info = env.step(env.action_space.sample())"
   ]
  },
  {
   "cell_type": "code",
   "execution_count": null,
   "metadata": {},
   "outputs": [],
   "source": [
    "plt.imshow(cv2.cvtColor(obs, cv2.COLOR_BGR2RGB))"
   ]
  },
  {
   "cell_type": "code",
   "execution_count": null,
   "metadata": {},
   "outputs": [],
   "source": [
    "# !pip install torch==1.10.2+cu113 torchvision==0.11.3+cu113 torchaudio===0.10.2+cu113 -f https://download.pytorch.org/whl/cu113/torch_stable.html"
   ]
  },
  {
   "cell_type": "code",
   "execution_count": null,
   "metadata": {},
   "outputs": [],
   "source": [
    "# !pip install stable-baselines3[extra]"
   ]
  },
  {
   "cell_type": "code",
   "execution_count": null,
   "metadata": {},
   "outputs": [],
   "source": [
    "# !pip install optuna"
   ]
  },
  {
   "cell_type": "code",
   "execution_count": 4,
   "metadata": {},
   "outputs": [],
   "source": [
    "# Importing the optimzation frame - HPO\n",
    "import optuna\n",
    "# PPO algo for RL\n",
    "from stable_baselines3 import PPO\n",
    "# Bring in the eval policy method for metric calculation\n",
    "from stable_baselines3.common.evaluation import evaluate_policy\n",
    "# Import the sb3 monitor for logging \n",
    "from stable_baselines3.common.monitor import Monitor\n",
    "# Import the vec wrappers to vectorize and frame stack\n",
    "from stable_baselines3.common.vec_env import DummyVecEnv, VecFrameStack\n",
    "# Import os to deal with filepaths\n",
    "import os"
   ]
  },
  {
   "cell_type": "code",
   "execution_count": 5,
   "metadata": {},
   "outputs": [],
   "source": [
    "LOG_DIR = './logs/'\n",
    "OPT_DIR = './opt/'"
   ]
  },
  {
   "cell_type": "code",
   "execution_count": 6,
   "metadata": {},
   "outputs": [],
   "source": [
    "# Function to return test hyperparameters - define the object function\n",
    "def optimize_ppo(trial): \n",
    "    return {\n",
    "        'n_steps':trial.suggest_int('n_steps', 2048, 8192),\n",
    "        'gamma':trial.suggest_loguniform('gamma', 0.8, 0.9999),\n",
    "        'learning_rate':trial.suggest_loguniform('learning_rate', 1e-5, 1e-4),\n",
    "        'clip_range':trial.suggest_uniform('clip_range', 0.1, 0.4),\n",
    "        'gae_lambda':trial.suggest_uniform('gae_lambda', 0.8, 0.99)\n",
    "    }"
   ]
  },
  {
   "cell_type": "code",
   "execution_count": null,
   "metadata": {},
   "outputs": [],
   "source": [
    "# SAVE_PATH = os.path.join('trial_{}_best_model'.format(1))"
   ]
  },
  {
   "cell_type": "code",
   "execution_count": null,
   "metadata": {},
   "outputs": [],
   "source": [
    "# # Run a training loop and return mean reward \n",
    "# def optimize_agent(trial):\n",
    "#     try:\n",
    "#         model_params = optimize_ppo(trial) \n",
    "\n",
    "#         # Create environment \n",
    "#         env = StreetFighter()\n",
    "#         env = Monitor(env, LOG_DIR)\n",
    "#         env = DummyVecEnv([lambda: env])\n",
    "#         env = VecFrameStack(env, 4, channels_order='last')\n",
    "\n",
    "#         # Create algo \n",
    "#         model = PPO('CnnPolicy', env, tensorboard_log=LOG_DIR, verbose=0, **model_params)\n",
    "#         model.learn(total_timesteps=30000)\n",
    "#         #model.learn(total_timesteps=100000)\n",
    "\n",
    "#         # Evaluate model \n",
    "#         mean_reward, _ = evaluate_policy(model, env, n_eval_episodes=)\n",
    "#         env.close()\n",
    "\n",
    "#         SAVE_PATH = os.path.join(OPT_DIR, 'trial_{}_best_model'.format(trial.number))\n",
    "#         model.save(SAVE_PATH)\n",
    "\n",
    "#         return mean_reward\n",
    "\n",
    "#     except Exception as e:\n",
    "#         return -1000"
   ]
  },
  {
   "cell_type": "code",
   "execution_count": 7,
   "metadata": {},
   "outputs": [],
   "source": [
    "# Run a training loop and return mean reward \n",
    "def optimize_agent(trial):\n",
    "    model_params = optimize_ppo(trial) \n",
    "\n",
    "    # Create environment \n",
    "    env = StreetFighter()\n",
    "    env = Monitor(env, LOG_DIR)\n",
    "    env = DummyVecEnv([lambda: env])\n",
    "    env = VecFrameStack(env, 4, channels_order='last')\n",
    "    # Create algo \n",
    "    model = PPO('CnnPolicy', env, tensorboard_log=LOG_DIR, verbose=0, **model_params)\n",
    "    model.learn(total_timesteps=30000)    #model.learn(total_timesteps=100000)\n",
    "\n",
    "    # Evaluate model \n",
    "    mean_reward, _ = evaluate_policy(model, env, n_eval_episodes=5)\n",
    "    env.close()\n",
    "\n",
    "    SAVE_PATH = os.path.join(OPT_DIR, 'trial_{}_best_model'.format(trial.number))\n",
    "    model.save(SAVE_PATH)\n",
    "\n",
    "    return mean_reward\n"
   ]
  },
  {
   "cell_type": "code",
   "execution_count": 8,
   "metadata": {},
   "outputs": [
    {
     "name": "stderr",
     "output_type": "stream",
     "text": [
      "\u001b[32m[I 2022-08-17 12:51:34,774]\u001b[0m A new study created in memory with name: no-name-99bc8821-cd20-4a01-8658-f3cd6d7097bf\u001b[0m\n",
      "C:\\Users\\panch\\AppData\\Roaming\\Python\\Python38\\site-packages\\stable_baselines3\\ppo\\ppo.py:146: UserWarning: You have specified a mini-batch size of 64, but because the `RolloutBuffer` is of size `n_steps * n_envs = 6461`, after every 100 untruncated mini-batches, there will be a truncated mini-batch of size 61\n",
      "We recommend using a `batch_size` that is a factor of `n_steps * n_envs`.\n",
      "Info: (n_steps=6461 and n_envs=1)\n",
      "  warnings.warn(\n",
      "\u001b[32m[I 2022-08-17 13:03:26,673]\u001b[0m Trial 0 finished with value: 3300.0 and parameters: {'n_steps': 6461, 'gamma': 0.801677180763084, 'learning_rate': 6.997691571445032e-05, 'clip_range': 0.23970394480575144, 'gae_lambda': 0.8915495127522939}. Best is trial 0 with value: 3300.0.\u001b[0m\n",
      "C:\\Users\\panch\\AppData\\Roaming\\Python\\Python38\\site-packages\\stable_baselines3\\ppo\\ppo.py:146: UserWarning: You have specified a mini-batch size of 64, but because the `RolloutBuffer` is of size `n_steps * n_envs = 7592`, after every 118 untruncated mini-batches, there will be a truncated mini-batch of size 40\n",
      "We recommend using a `batch_size` that is a factor of `n_steps * n_envs`.\n",
      "Info: (n_steps=7592 and n_envs=1)\n",
      "  warnings.warn(\n",
      "\u001b[32m[I 2022-08-17 13:11:50,309]\u001b[0m Trial 1 finished with value: 4000.0 and parameters: {'n_steps': 7592, 'gamma': 0.9093280735594101, 'learning_rate': 1.3101969698800262e-05, 'clip_range': 0.19123124873310585, 'gae_lambda': 0.8585384347140433}. Best is trial 1 with value: 4000.0.\u001b[0m\n",
      "C:\\Users\\panch\\AppData\\Roaming\\Python\\Python38\\site-packages\\stable_baselines3\\ppo\\ppo.py:146: UserWarning: You have specified a mini-batch size of 64, but because the `RolloutBuffer` is of size `n_steps * n_envs = 4433`, after every 69 untruncated mini-batches, there will be a truncated mini-batch of size 17\n",
      "We recommend using a `batch_size` that is a factor of `n_steps * n_envs`.\n",
      "Info: (n_steps=4433 and n_envs=1)\n",
      "  warnings.warn(\n",
      "\u001b[32m[I 2022-08-17 13:19:43,539]\u001b[0m Trial 2 finished with value: 2200.0 and parameters: {'n_steps': 4433, 'gamma': 0.9077602551601596, 'learning_rate': 1.6079554146439882e-05, 'clip_range': 0.21705383709365195, 'gae_lambda': 0.8062106722809561}. Best is trial 1 with value: 4000.0.\u001b[0m\n",
      "C:\\Users\\panch\\AppData\\Roaming\\Python\\Python38\\site-packages\\stable_baselines3\\ppo\\ppo.py:146: UserWarning: You have specified a mini-batch size of 64, but because the `RolloutBuffer` is of size `n_steps * n_envs = 6496`, after every 101 untruncated mini-batches, there will be a truncated mini-batch of size 32\n",
      "We recommend using a `batch_size` that is a factor of `n_steps * n_envs`.\n",
      "Info: (n_steps=6496 and n_envs=1)\n",
      "  warnings.warn(\n",
      "\u001b[32m[I 2022-08-17 13:28:13,492]\u001b[0m Trial 3 finished with value: 2300.0 and parameters: {'n_steps': 6496, 'gamma': 0.8223648509177373, 'learning_rate': 5.182183205056873e-05, 'clip_range': 0.21718180550901897, 'gae_lambda': 0.8026192039204744}. Best is trial 1 with value: 4000.0.\u001b[0m\n",
      "C:\\Users\\panch\\AppData\\Roaming\\Python\\Python38\\site-packages\\stable_baselines3\\ppo\\ppo.py:146: UserWarning: You have specified a mini-batch size of 64, but because the `RolloutBuffer` is of size `n_steps * n_envs = 7088`, after every 110 untruncated mini-batches, there will be a truncated mini-batch of size 48\n",
      "We recommend using a `batch_size` that is a factor of `n_steps * n_envs`.\n",
      "Info: (n_steps=7088 and n_envs=1)\n",
      "  warnings.warn(\n",
      "\u001b[32m[I 2022-08-17 13:37:28,094]\u001b[0m Trial 4 finished with value: 3700.0 and parameters: {'n_steps': 7088, 'gamma': 0.8356715940811331, 'learning_rate': 5.930498433632256e-05, 'clip_range': 0.3753905730943117, 'gae_lambda': 0.8204611429995379}. Best is trial 1 with value: 4000.0.\u001b[0m\n",
      "C:\\Users\\panch\\AppData\\Roaming\\Python\\Python38\\site-packages\\stable_baselines3\\ppo\\ppo.py:146: UserWarning: You have specified a mini-batch size of 64, but because the `RolloutBuffer` is of size `n_steps * n_envs = 5251`, after every 82 untruncated mini-batches, there will be a truncated mini-batch of size 3\n",
      "We recommend using a `batch_size` that is a factor of `n_steps * n_envs`.\n",
      "Info: (n_steps=5251 and n_envs=1)\n",
      "  warnings.warn(\n",
      "\u001b[32m[I 2022-08-17 13:45:23,591]\u001b[0m Trial 5 finished with value: 3000.0 and parameters: {'n_steps': 5251, 'gamma': 0.9474286247715432, 'learning_rate': 3.515549266646004e-05, 'clip_range': 0.15891564333869626, 'gae_lambda': 0.9408799375094006}. Best is trial 1 with value: 4000.0.\u001b[0m\n",
      "C:\\Users\\panch\\AppData\\Roaming\\Python\\Python38\\site-packages\\stable_baselines3\\ppo\\ppo.py:146: UserWarning: You have specified a mini-batch size of 64, but because the `RolloutBuffer` is of size `n_steps * n_envs = 7181`, after every 112 untruncated mini-batches, there will be a truncated mini-batch of size 13\n",
      "We recommend using a `batch_size` that is a factor of `n_steps * n_envs`.\n",
      "Info: (n_steps=7181 and n_envs=1)\n",
      "  warnings.warn(\n",
      "\u001b[32m[I 2022-08-17 13:52:26,880]\u001b[0m Trial 6 finished with value: 1000.0 and parameters: {'n_steps': 7181, 'gamma': 0.8402070660762138, 'learning_rate': 2.7326415684124162e-05, 'clip_range': 0.26784414827161496, 'gae_lambda': 0.8983579342893657}. Best is trial 1 with value: 4000.0.\u001b[0m\n",
      "C:\\Users\\panch\\AppData\\Roaming\\Python\\Python38\\site-packages\\stable_baselines3\\ppo\\ppo.py:146: UserWarning: You have specified a mini-batch size of 64, but because the `RolloutBuffer` is of size `n_steps * n_envs = 7712`, after every 120 untruncated mini-batches, there will be a truncated mini-batch of size 32\n",
      "We recommend using a `batch_size` that is a factor of `n_steps * n_envs`.\n",
      "Info: (n_steps=7712 and n_envs=1)\n",
      "  warnings.warn(\n",
      "\u001b[32m[I 2022-08-17 13:59:37,644]\u001b[0m Trial 7 finished with value: 2700.0 and parameters: {'n_steps': 7712, 'gamma': 0.9191632379458724, 'learning_rate': 9.19447445795878e-05, 'clip_range': 0.2613777809721568, 'gae_lambda': 0.8067915367796279}. Best is trial 1 with value: 4000.0.\u001b[0m\n",
      "C:\\Users\\panch\\AppData\\Roaming\\Python\\Python38\\site-packages\\stable_baselines3\\ppo\\ppo.py:146: UserWarning: You have specified a mini-batch size of 64, but because the `RolloutBuffer` is of size `n_steps * n_envs = 5434`, after every 84 untruncated mini-batches, there will be a truncated mini-batch of size 58\n",
      "We recommend using a `batch_size` that is a factor of `n_steps * n_envs`.\n",
      "Info: (n_steps=5434 and n_envs=1)\n",
      "  warnings.warn(\n",
      "\u001b[32m[I 2022-08-17 14:06:25,727]\u001b[0m Trial 8 finished with value: 6700.0 and parameters: {'n_steps': 5434, 'gamma': 0.8493518570779583, 'learning_rate': 3.500963311405907e-05, 'clip_range': 0.38894254030156405, 'gae_lambda': 0.976061027822489}. Best is trial 8 with value: 6700.0.\u001b[0m\n",
      "C:\\Users\\panch\\AppData\\Roaming\\Python\\Python38\\site-packages\\stable_baselines3\\ppo\\ppo.py:146: UserWarning: You have specified a mini-batch size of 64, but because the `RolloutBuffer` is of size `n_steps * n_envs = 6287`, after every 98 untruncated mini-batches, there will be a truncated mini-batch of size 15\n",
      "We recommend using a `batch_size` that is a factor of `n_steps * n_envs`.\n",
      "Info: (n_steps=6287 and n_envs=1)\n",
      "  warnings.warn(\n",
      "\u001b[32m[I 2022-08-17 14:12:53,379]\u001b[0m Trial 9 finished with value: 4800.0 and parameters: {'n_steps': 6287, 'gamma': 0.8144872646097086, 'learning_rate': 3.83476583829175e-05, 'clip_range': 0.3929518847903024, 'gae_lambda': 0.9776822311964792}. Best is trial 8 with value: 6700.0.\u001b[0m\n"
     ]
    }
   ],
   "source": [
    "# Creating the experiment \n",
    "study = optuna.create_study(direction='maximize')\n",
    "study.optimize(optimize_agent, n_trials=10, n_jobs=1)\n",
    "# study.optimize(optimize_agent, n_trials=100, n_jobs=1)"
   ]
  },
  {
   "cell_type": "code",
   "execution_count": 9,
   "metadata": {},
   "outputs": [
    {
     "data": {
      "text/plain": [
       "{'n_steps': 5434,\n",
       " 'gamma': 0.8493518570779583,\n",
       " 'learning_rate': 3.500963311405907e-05,\n",
       " 'clip_range': 0.38894254030156405,\n",
       " 'gae_lambda': 0.976061027822489}"
      ]
     },
     "execution_count": 9,
     "metadata": {},
     "output_type": "execute_result"
    }
   ],
   "source": [
    "study.best_params"
   ]
  },
  {
   "cell_type": "code",
   "execution_count": 10,
   "metadata": {},
   "outputs": [
    {
     "data": {
      "text/plain": [
       "FrozenTrial(number=8, values=[6700.0], datetime_start=datetime.datetime(2022, 8, 17, 13, 59, 37, 645486), datetime_complete=datetime.datetime(2022, 8, 17, 14, 6, 25, 727865), params={'n_steps': 5434, 'gamma': 0.8493518570779583, 'learning_rate': 3.500963311405907e-05, 'clip_range': 0.38894254030156405, 'gae_lambda': 0.976061027822489}, distributions={'n_steps': IntUniformDistribution(high=8192, low=2048, step=1), 'gamma': LogUniformDistribution(high=0.9999, low=0.8), 'learning_rate': LogUniformDistribution(high=0.0001, low=1e-05), 'clip_range': UniformDistribution(high=0.4, low=0.1), 'gae_lambda': UniformDistribution(high=0.99, low=0.8)}, user_attrs={}, system_attrs={}, intermediate_values={}, trial_id=8, state=TrialState.COMPLETE, value=None)"
      ]
     },
     "execution_count": 10,
     "metadata": {},
     "output_type": "execute_result"
    }
   ],
   "source": [
    "study.best_trial"
   ]
  },
  {
   "cell_type": "code",
   "execution_count": 12,
   "metadata": {},
   "outputs": [],
   "source": [
    "model = PPO.load(os.path.join(OPT_DIR, 'trial_8_best_model.zip'))"
   ]
  },
  {
   "cell_type": "markdown",
   "metadata": {},
   "source": [
    "# Setup Callback"
   ]
  },
  {
   "cell_type": "code",
   "execution_count": 13,
   "metadata": {},
   "outputs": [],
   "source": [
    "# Import base callback \n",
    "from stable_baselines3.common.callbacks import BaseCallback"
   ]
  },
  {
   "cell_type": "code",
   "execution_count": 14,
   "metadata": {},
   "outputs": [],
   "source": [
    "class TrainAndLoggingCallback(BaseCallback):\n",
    "\n",
    "    def __init__(self, check_freq, save_path, verbose=1):\n",
    "        super(TrainAndLoggingCallback, self).__init__(verbose)\n",
    "        self.check_freq = check_freq\n",
    "        self.save_path = save_path\n",
    "\n",
    "    def _init_callback(self):\n",
    "        if self.save_path is not None:\n",
    "            os.makedirs(self.save_path, exist_ok=True)\n",
    "\n",
    "    def _on_step(self):\n",
    "        if self.n_calls % self.check_freq == 0:\n",
    "            model_path = os.path.join(self.save_path, 'best_model_{}'.format(self.n_calls))\n",
    "            self.model.save(model_path)\n",
    "\n",
    "        return True"
   ]
  },
  {
   "cell_type": "code",
   "execution_count": 15,
   "metadata": {},
   "outputs": [],
   "source": [
    "CHECKPOINT_DIR = './train/'"
   ]
  },
  {
   "cell_type": "code",
   "execution_count": 16,
   "metadata": {},
   "outputs": [],
   "source": [
    "callback = TrainAndLoggingCallback(check_freq=10000, save_path=CHECKPOINT_DIR)"
   ]
  },
  {
   "cell_type": "markdown",
   "metadata": {},
   "source": [
    "# Train Model"
   ]
  },
  {
   "cell_type": "code",
   "execution_count": 6,
   "metadata": {},
   "outputs": [],
   "source": [
    "# Create environment \n",
    "env = StreetFighter()\n",
    "env = Monitor(env, LOG_DIR)\n",
    "env = DummyVecEnv([lambda: env])\n",
    "env = VecFrameStack(env, 4, channels_order='last')"
   ]
  },
  {
   "cell_type": "code",
   "execution_count": 18,
   "metadata": {},
   "outputs": [
    {
     "data": {
      "text/plain": [
       "{'n_steps': 7488,\n",
       " 'gamma': 0.8493518570779583,\n",
       " 'learning_rate': 3.500963311405907e-05,\n",
       " 'clip_range': 0.38894254030156405,\n",
       " 'gae_lambda': 0.976061027822489}"
      ]
     },
     "execution_count": 18,
     "metadata": {},
     "output_type": "execute_result"
    }
   ],
   "source": [
    "model_params = study.best_params\n",
    "model_params['n_steps'] = 7488  # set n_steps to 7488 or a factor of 64\n",
    "# model_params['learning_rate'] = 5e-7\n",
    "model_params"
   ]
  },
  {
   "cell_type": "code",
   "execution_count": 19,
   "metadata": {},
   "outputs": [
    {
     "name": "stdout",
     "output_type": "stream",
     "text": [
      "Using cpu device\n",
      "Wrapping the env in a VecTransposeImage.\n"
     ]
    }
   ],
   "source": [
    "model = PPO('CnnPolicy', env, tensorboard_log=LOG_DIR, verbose=1, **model_params)"
   ]
  },
  {
   "cell_type": "code",
   "execution_count": 20,
   "metadata": {},
   "outputs": [
    {
     "data": {
      "text/plain": [
       "<stable_baselines3.ppo.ppo.PPO at 0x28d91d3f8b0>"
      ]
     },
     "execution_count": 20,
     "metadata": {},
     "output_type": "execute_result"
    }
   ],
   "source": [
    "# Reload previous weights from HPO\n",
    "model.load(os.path.join(OPT_DIR, 'trial_8_best_model.zip'))"
   ]
  },
  {
   "cell_type": "code",
   "execution_count": 21,
   "metadata": {},
   "outputs": [
    {
     "name": "stdout",
     "output_type": "stream",
     "text": [
      "Logging to ./logs/PPO_12\n",
      "---------------------------------\n",
      "| rollout/           |          |\n",
      "|    ep_len_mean     | 6.62e+03 |\n",
      "|    ep_rew_mean     | 2.3e+03  |\n",
      "| time/              |          |\n",
      "|    fps             | 601      |\n",
      "|    iterations      | 1        |\n",
      "|    time_elapsed    | 12       |\n",
      "|    total_timesteps | 7488     |\n",
      "---------------------------------\n",
      "-----------------------------------------\n",
      "| rollout/                |             |\n",
      "|    ep_len_mean          | 6.62e+03    |\n",
      "|    ep_rew_mean          | 2.3e+03     |\n",
      "| time/                   |             |\n",
      "|    fps                  | 176         |\n",
      "|    iterations           | 2           |\n",
      "|    time_elapsed         | 85          |\n",
      "|    total_timesteps      | 14976       |\n",
      "| train/                  |             |\n",
      "|    approx_kl            | 0.017377233 |\n",
      "|    clip_fraction        | 0.0407      |\n",
      "|    clip_range           | 0.389       |\n",
      "|    entropy_loss         | -8.3        |\n",
      "|    explained_variance   | 5.02e-05    |\n",
      "|    learning_rate        | 3.5e-05     |\n",
      "|    loss                 | 9.51        |\n",
      "|    n_updates            | 10          |\n",
      "|    policy_gradient_loss | -0.00828    |\n",
      "|    value_loss           | 651         |\n",
      "-----------------------------------------\n",
      "-----------------------------------------\n",
      "| rollout/                |             |\n",
      "|    ep_len_mean          | 7.84e+03    |\n",
      "|    ep_rew_mean          | 3.06e+04    |\n",
      "| time/                   |             |\n",
      "|    fps                  | 144         |\n",
      "|    iterations           | 3           |\n",
      "|    time_elapsed         | 155         |\n",
      "|    total_timesteps      | 22464       |\n",
      "| train/                  |             |\n",
      "|    approx_kl            | 0.029132191 |\n",
      "|    clip_fraction        | 0.0741      |\n",
      "|    clip_range           | 0.389       |\n",
      "|    entropy_loss         | -8.27       |\n",
      "|    explained_variance   | -1.43e-05   |\n",
      "|    learning_rate        | 3.5e-05     |\n",
      "|    loss                 | 224         |\n",
      "|    n_updates            | 20          |\n",
      "|    policy_gradient_loss | 7.93e-06    |\n",
      "|    value_loss           | 4.33e+05    |\n",
      "-----------------------------------------\n",
      "----------------------------------------\n",
      "| rollout/                |            |\n",
      "|    ep_len_mean          | 7.79e+03   |\n",
      "|    ep_rew_mean          | 3.13e+04   |\n",
      "| time/                   |            |\n",
      "|    fps                  | 131        |\n",
      "|    iterations           | 4          |\n",
      "|    time_elapsed         | 227        |\n",
      "|    total_timesteps      | 29952      |\n",
      "| train/                  |            |\n",
      "|    approx_kl            | 0.04079504 |\n",
      "|    clip_fraction        | 0.095      |\n",
      "|    clip_range           | 0.389      |\n",
      "|    entropy_loss         | -8.25      |\n",
      "|    explained_variance   | 0.00301    |\n",
      "|    learning_rate        | 3.5e-05    |\n",
      "|    loss                 | 121        |\n",
      "|    n_updates            | 30         |\n",
      "|    policy_gradient_loss | -0.00278   |\n",
      "|    value_loss           | 1.91e+05   |\n",
      "----------------------------------------\n",
      "----------------------------------------\n",
      "| rollout/                |            |\n",
      "|    ep_len_mean          | 7.79e+03   |\n",
      "|    ep_rew_mean          | 3.13e+04   |\n",
      "| time/                   |            |\n",
      "|    fps                  | 123        |\n",
      "|    iterations           | 5          |\n",
      "|    time_elapsed         | 303        |\n",
      "|    total_timesteps      | 37440      |\n",
      "| train/                  |            |\n",
      "|    approx_kl            | 0.07025122 |\n",
      "|    clip_fraction        | 0.147      |\n",
      "|    clip_range           | 0.389      |\n",
      "|    entropy_loss         | -8.22      |\n",
      "|    explained_variance   | 0.0052     |\n",
      "|    learning_rate        | 3.5e-05    |\n",
      "|    loss                 | 39.5       |\n",
      "|    n_updates            | 40         |\n",
      "|    policy_gradient_loss | 0.00205    |\n",
      "|    value_loss           | 9.53e+04   |\n",
      "----------------------------------------\n",
      "----------------------------------------\n",
      "| rollout/                |            |\n",
      "|    ep_len_mean          | 9.53e+03   |\n",
      "|    ep_rew_mean          | 3.76e+04   |\n",
      "| time/                   |            |\n",
      "|    fps                  | 119        |\n",
      "|    iterations           | 6          |\n",
      "|    time_elapsed         | 377        |\n",
      "|    total_timesteps      | 44928      |\n",
      "| train/                  |            |\n",
      "|    approx_kl            | 0.11870493 |\n",
      "|    clip_fraction        | 0.202      |\n",
      "|    clip_range           | 0.389      |\n",
      "|    entropy_loss         | -8.02      |\n",
      "|    explained_variance   | 0.0136     |\n",
      "|    learning_rate        | 3.5e-05    |\n",
      "|    loss                 | 3.2e+04    |\n",
      "|    n_updates            | 50         |\n",
      "|    policy_gradient_loss | 0.00359    |\n",
      "|    value_loss           | 7.31e+04   |\n",
      "----------------------------------------\n",
      "---------------------------------------\n",
      "| rollout/                |           |\n",
      "|    ep_len_mean          | 9.35e+03  |\n",
      "|    ep_rew_mean          | 3.46e+04  |\n",
      "| time/                   |           |\n",
      "|    fps                  | 112       |\n",
      "|    iterations           | 7         |\n",
      "|    time_elapsed         | 466       |\n",
      "|    total_timesteps      | 52416     |\n",
      "| train/                  |           |\n",
      "|    approx_kl            | 1.0320716 |\n",
      "|    clip_fraction        | 0.36      |\n",
      "|    clip_range           | 0.389     |\n",
      "|    entropy_loss         | -7.71     |\n",
      "|    explained_variance   | 0.0327    |\n",
      "|    learning_rate        | 3.5e-05   |\n",
      "|    loss                 | 102       |\n",
      "|    n_updates            | 60        |\n",
      "|    policy_gradient_loss | 0.0376    |\n",
      "|    value_loss           | 5.23e+04  |\n",
      "---------------------------------------\n",
      "--------------------------------------\n",
      "| rollout/                |          |\n",
      "|    ep_len_mean          | 9.45e+03 |\n",
      "|    ep_rew_mean          | 3.24e+04 |\n",
      "| time/                   |          |\n",
      "|    fps                  | 107      |\n",
      "|    iterations           | 8        |\n",
      "|    time_elapsed         | 558      |\n",
      "|    total_timesteps      | 59904    |\n",
      "| train/                  |          |\n",
      "|    approx_kl            | 13.49367 |\n",
      "|    clip_fraction        | 0.581    |\n",
      "|    clip_range           | 0.389    |\n",
      "|    entropy_loss         | -5.64    |\n",
      "|    explained_variance   | 0.114    |\n",
      "|    learning_rate        | 3.5e-05  |\n",
      "|    loss                 | 177      |\n",
      "|    n_updates            | 70       |\n",
      "|    policy_gradient_loss | 0.109    |\n",
      "|    value_loss           | 2.2e+04  |\n",
      "--------------------------------------\n",
      "----------------------------------------\n",
      "| rollout/                |            |\n",
      "|    ep_len_mean          | 9.08e+03   |\n",
      "|    ep_rew_mean          | 2.83e+04   |\n",
      "| time/                   |            |\n",
      "|    fps                  | 104        |\n",
      "|    iterations           | 9          |\n",
      "|    time_elapsed         | 642        |\n",
      "|    total_timesteps      | 67392      |\n",
      "| train/                  |            |\n",
      "|    approx_kl            | 0.10082393 |\n",
      "|    clip_fraction        | 0.297      |\n",
      "|    clip_range           | 0.389      |\n",
      "|    entropy_loss         | -4.28      |\n",
      "|    explained_variance   | -0.304     |\n",
      "|    learning_rate        | 3.5e-05    |\n",
      "|    loss                 | 4.37       |\n",
      "|    n_updates            | 80         |\n",
      "|    policy_gradient_loss | -0.00258   |\n",
      "|    value_loss           | 624        |\n",
      "----------------------------------------\n",
      "----------------------------------------\n",
      "| rollout/                |            |\n",
      "|    ep_len_mean          | 9.06e+03   |\n",
      "|    ep_rew_mean          | 2.52e+04   |\n",
      "| time/                   |            |\n",
      "|    fps                  | 103        |\n",
      "|    iterations           | 10         |\n",
      "|    time_elapsed         | 724        |\n",
      "|    total_timesteps      | 74880      |\n",
      "| train/                  |            |\n",
      "|    approx_kl            | 0.06506318 |\n",
      "|    clip_fraction        | 0.189      |\n",
      "|    clip_range           | 0.389      |\n",
      "|    entropy_loss         | -4.21      |\n",
      "|    explained_variance   | 0.026      |\n",
      "|    learning_rate        | 3.5e-05    |\n",
      "|    loss                 | 5.42       |\n",
      "|    n_updates            | 90         |\n",
      "|    policy_gradient_loss | 0.00283    |\n",
      "|    value_loss           | 1.46e+03   |\n",
      "----------------------------------------\n",
      "----------------------------------------\n",
      "| rollout/                |            |\n",
      "|    ep_len_mean          | 8.8e+03    |\n",
      "|    ep_rew_mean          | 2.25e+04   |\n",
      "| time/                   |            |\n",
      "|    fps                  | 102        |\n",
      "|    iterations           | 11         |\n",
      "|    time_elapsed         | 806        |\n",
      "|    total_timesteps      | 82368      |\n",
      "| train/                  |            |\n",
      "|    approx_kl            | 0.06887441 |\n",
      "|    clip_fraction        | 0.172      |\n",
      "|    clip_range           | 0.389      |\n",
      "|    entropy_loss         | -4.3       |\n",
      "|    explained_variance   | 0.0335     |\n",
      "|    learning_rate        | 3.5e-05    |\n",
      "|    loss                 | 1.43       |\n",
      "|    n_updates            | 100        |\n",
      "|    policy_gradient_loss | 0.00128    |\n",
      "|    value_loss           | 471        |\n",
      "----------------------------------------\n"
     ]
    },
    {
     "name": "stdout",
     "output_type": "stream",
     "text": [
      "----------------------------------------\n",
      "| rollout/                |            |\n",
      "|    ep_len_mean          | 8.59e+03   |\n",
      "|    ep_rew_mean          | 2.06e+04   |\n",
      "| time/                   |            |\n",
      "|    fps                  | 101        |\n",
      "|    iterations           | 12         |\n",
      "|    time_elapsed         | 888        |\n",
      "|    total_timesteps      | 89856      |\n",
      "| train/                  |            |\n",
      "|    approx_kl            | 0.07164568 |\n",
      "|    clip_fraction        | 0.172      |\n",
      "|    clip_range           | 0.389      |\n",
      "|    entropy_loss         | -4.33      |\n",
      "|    explained_variance   | 0.0122     |\n",
      "|    learning_rate        | 3.5e-05    |\n",
      "|    loss                 | 1.72       |\n",
      "|    n_updates            | 110        |\n",
      "|    policy_gradient_loss | -0.00255   |\n",
      "|    value_loss           | 592        |\n",
      "----------------------------------------\n",
      "----------------------------------------\n",
      "| rollout/                |            |\n",
      "|    ep_len_mean          | 8.4e+03    |\n",
      "|    ep_rew_mean          | 1.9e+04    |\n",
      "| time/                   |            |\n",
      "|    fps                  | 100        |\n",
      "|    iterations           | 13         |\n",
      "|    time_elapsed         | 971        |\n",
      "|    total_timesteps      | 97344      |\n",
      "| train/                  |            |\n",
      "|    approx_kl            | 0.10910928 |\n",
      "|    clip_fraction        | 0.161      |\n",
      "|    clip_range           | 0.389      |\n",
      "|    entropy_loss         | -4.3       |\n",
      "|    explained_variance   | 0.000123   |\n",
      "|    learning_rate        | 3.5e-05    |\n",
      "|    loss                 | 2.6        |\n",
      "|    n_updates            | 120        |\n",
      "|    policy_gradient_loss | -0.00265   |\n",
      "|    value_loss           | 1.63e+03   |\n",
      "----------------------------------------\n",
      "-----------------------------------------\n",
      "| rollout/                |             |\n",
      "|    ep_len_mean          | 8.25e+03    |\n",
      "|    ep_rew_mean          | 1.76e+04    |\n",
      "| time/                   |             |\n",
      "|    fps                  | 99          |\n",
      "|    iterations           | 14          |\n",
      "|    time_elapsed         | 1055        |\n",
      "|    total_timesteps      | 104832      |\n",
      "| train/                  |             |\n",
      "|    approx_kl            | 0.058586746 |\n",
      "|    clip_fraction        | 0.14        |\n",
      "|    clip_range           | 0.389       |\n",
      "|    entropy_loss         | -4.06       |\n",
      "|    explained_variance   | 0.0107      |\n",
      "|    learning_rate        | 3.5e-05     |\n",
      "|    loss                 | 70.6        |\n",
      "|    n_updates            | 130         |\n",
      "|    policy_gradient_loss | -0.00257    |\n",
      "|    value_loss           | 1.03e+03    |\n",
      "-----------------------------------------\n"
     ]
    },
    {
     "data": {
      "text/plain": [
       "<stable_baselines3.ppo.ppo.PPO at 0x28d8ce3bbb0>"
      ]
     },
     "execution_count": 21,
     "metadata": {},
     "output_type": "execute_result"
    }
   ],
   "source": [
    "# Kick off training \n",
    "model.learn(total_timesteps=100000, callback=callback)\n",
    "# model.learn(total_timestep=5000000) "
   ]
  },
  {
   "cell_type": "markdown",
   "metadata": {},
   "source": [
    "# Evaluate the Model"
   ]
  },
  {
   "cell_type": "code",
   "execution_count": 7,
   "metadata": {},
   "outputs": [],
   "source": [
    "model = PPO.load('./opt/trial_8_best_model.zip')"
   ]
  },
  {
   "cell_type": "code",
   "execution_count": 8,
   "metadata": {},
   "outputs": [
    {
     "name": "stderr",
     "output_type": "stream",
     "text": [
      "C:\\Users\\panch\\anaconda3\\lib\\site-packages\\pyglet\\image\\codecs\\wic.py:406: UserWarning: [WinError -2147417850] Cannot change thread mode after it is set\n",
      "  warnings.warn(str(err))\n"
     ]
    }
   ],
   "source": [
    "mean_reward, _ = evaluate_policy(model, env, render=True, n_eval_episodes=1)"
   ]
  },
  {
   "cell_type": "code",
   "execution_count": 9,
   "metadata": {},
   "outputs": [
    {
     "data": {
      "text/plain": [
       "6700.0"
      ]
     },
     "execution_count": 9,
     "metadata": {},
     "output_type": "execute_result"
    }
   ],
   "source": [
    "mean_reward"
   ]
  },
  {
   "cell_type": "markdown",
   "metadata": {},
   "source": [
    "# Test out the Model"
   ]
  },
  {
   "cell_type": "code",
   "execution_count": 10,
   "metadata": {},
   "outputs": [],
   "source": [
    "obs = env.reset()"
   ]
  },
  {
   "cell_type": "code",
   "execution_count": 11,
   "metadata": {},
   "outputs": [
    {
     "data": {
      "text/plain": [
       "(1, 84, 84, 4)"
      ]
     },
     "execution_count": 11,
     "metadata": {},
     "output_type": "execute_result"
    }
   ],
   "source": [
    "obs.shape"
   ]
  },
  {
   "cell_type": "code",
   "execution_count": 12,
   "metadata": {},
   "outputs": [
    {
     "data": {
      "text/plain": [
       "(array([[[[  0,   0,  36,   0],\n",
       "          [  0,   0,  36,   0],\n",
       "          [  0,   0,  33,   0],\n",
       "          ...,\n",
       "          [  0,   0,  37,   0],\n",
       "          [  0,   0,  34,   0],\n",
       "          [  0,   0,  36,   0]],\n",
       " \n",
       "         [[  0,   0,  36,   0],\n",
       "          [  0,   0,  36,   0],\n",
       "          [  0,   0,  35,   0],\n",
       "          ...,\n",
       "          [  0,   0,  36,   0],\n",
       "          [  0,   0,  40,   0],\n",
       "          [  0,   0,  40,   0]],\n",
       " \n",
       "         [[  0,   0,  36,   0],\n",
       "          [  0,   0,  36,   0],\n",
       "          [  0,   0,  36,   0],\n",
       "          ...,\n",
       "          [  0,   0,  36,   0],\n",
       "          [  0,   0,  36,   0],\n",
       "          [  0,   0,  36,   0]],\n",
       " \n",
       "         ...,\n",
       " \n",
       "         [[  0,   0, 162,   0],\n",
       "          [  0,   0, 159,   0],\n",
       "          [  0,   0, 159,   0],\n",
       "          ...,\n",
       "          [  0,   0, 159,   0],\n",
       "          [  0,   0, 159,   0],\n",
       "          [  0,   0, 159,   0]],\n",
       " \n",
       "         [[  0,   0, 162,   0],\n",
       "          [  0,   0, 162,   0],\n",
       "          [  0,   0, 162,   0],\n",
       "          ...,\n",
       "          [  0,   0, 162,   0],\n",
       "          [  0,   0, 162,   0],\n",
       "          [  0,   0, 162,   0]],\n",
       " \n",
       "         [[  0,   0, 162,   0],\n",
       "          [  0,   0, 162,   0],\n",
       "          [  0,   0, 162,   0],\n",
       "          ...,\n",
       "          [  0,   0, 162,   0],\n",
       "          [  0,   0, 162,   0],\n",
       "          [  0,   0, 162,   0]]]], dtype=uint8),\n",
       " array([0.], dtype=float32),\n",
       " array([False]),\n",
       " [{'enemy_matches_won': 0,\n",
       "   'score': 0,\n",
       "   'matches_won': 0,\n",
       "   'continuetimer': 0,\n",
       "   'enemy_health': 176,\n",
       "   'health': 176}])"
      ]
     },
     "execution_count": 12,
     "metadata": {},
     "output_type": "execute_result"
    }
   ],
   "source": [
    "env.step(model.predict(obs)[0])"
   ]
  },
  {
   "cell_type": "code",
   "execution_count": 13,
   "metadata": {},
   "outputs": [
    {
     "name": "stdout",
     "output_type": "stream",
     "text": [
      "[400.]\n",
      "[500.]\n",
      "[1000.]\n",
      "[300.]\n",
      "[1000.]\n",
      "[500.]\n",
      "[1500.]\n",
      "[100.]\n",
      "[100.]\n",
      "[100.]\n",
      "[100.]\n",
      "[100.]\n",
      "[100.]\n",
      "[100.]\n",
      "[100.]\n",
      "[100.]\n",
      "[100.]\n",
      "[100.]\n",
      "[100.]\n",
      "[100.]\n",
      "[100.]\n",
      "[100.]\n",
      "[100.]\n",
      "[1000.]\n",
      "[1000.]\n",
      "[1000.]\n",
      "[1000.]\n",
      "[1000.]\n",
      "[1000.]\n",
      "[1000.]\n",
      "[500.]\n",
      "[500.]\n",
      "[100.]\n",
      "[500.]\n",
      "[1000.]\n",
      "[1500.]\n",
      "[100.]\n",
      "[1000.]\n",
      "[1000.]\n",
      "[1000.]\n",
      "[1000.]\n",
      "[1000.]\n",
      "[1000.]\n",
      "[1000.]\n",
      "[400.]\n",
      "[100.]\n",
      "[500.]\n",
      "[1000.]\n",
      "[300.]\n",
      "[500.]\n"
     ]
    }
   ],
   "source": [
    "# Reset game to starting state\n",
    "obs = env.reset()\n",
    "# Set flag to flase\n",
    "done = False\n",
    "\n",
    "for game in range(1): \n",
    "    while not done: \n",
    "        if done: \n",
    "            obs = env.reset()\n",
    "        env.render()\n",
    "        action = model.predict(obs)[0]\n",
    "        obs, reward, done, info = env.step(action)\n",
    "        time.sleep(0.01)\n",
    "        if reward > 0:\n",
    "            print(reward)"
   ]
  },
  {
   "cell_type": "code",
   "execution_count": 14,
   "metadata": {},
   "outputs": [
    {
     "data": {
      "text/plain": [
       "[{'enemy_matches_won': 2,\n",
       "  'score': 27800,\n",
       "  'matches_won': 0,\n",
       "  'continuetimer': 10,\n",
       "  'enemy_health': 0,\n",
       "  'health': 0,\n",
       "  'episode': {'r': 27800, 'l': 10848, 't': 518.158784},\n",
       "  'terminal_observation': array([[[0, 0, 0, 0],\n",
       "          [0, 0, 0, 0],\n",
       "          [0, 0, 0, 0],\n",
       "          ...,\n",
       "          [0, 0, 0, 0],\n",
       "          [0, 0, 0, 0],\n",
       "          [0, 0, 0, 0]],\n",
       "  \n",
       "         [[0, 0, 0, 0],\n",
       "          [0, 0, 0, 0],\n",
       "          [0, 0, 0, 0],\n",
       "          ...,\n",
       "          [0, 0, 0, 0],\n",
       "          [0, 0, 0, 0],\n",
       "          [0, 0, 0, 0]],\n",
       "  \n",
       "         [[0, 0, 0, 0],\n",
       "          [0, 0, 0, 0],\n",
       "          [0, 0, 0, 0],\n",
       "          ...,\n",
       "          [0, 0, 0, 0],\n",
       "          [0, 0, 0, 0],\n",
       "          [0, 0, 0, 0]],\n",
       "  \n",
       "         ...,\n",
       "  \n",
       "         [[0, 0, 0, 0],\n",
       "          [0, 0, 0, 0],\n",
       "          [0, 0, 0, 0],\n",
       "          ...,\n",
       "          [0, 0, 0, 0],\n",
       "          [0, 0, 0, 0],\n",
       "          [0, 0, 0, 0]],\n",
       "  \n",
       "         [[0, 0, 0, 0],\n",
       "          [0, 0, 0, 0],\n",
       "          [0, 0, 0, 0],\n",
       "          ...,\n",
       "          [0, 0, 0, 0],\n",
       "          [0, 0, 0, 0],\n",
       "          [0, 0, 0, 0]],\n",
       "  \n",
       "         [[0, 0, 0, 0],\n",
       "          [0, 0, 0, 0],\n",
       "          [0, 0, 0, 0],\n",
       "          ...,\n",
       "          [0, 0, 0, 0],\n",
       "          [0, 0, 0, 0],\n",
       "          [0, 0, 0, 0]]], dtype=uint8)}]"
      ]
     },
     "execution_count": 14,
     "metadata": {},
     "output_type": "execute_result"
    }
   ],
   "source": [
    "info"
   ]
  },
  {
   "cell_type": "code",
   "execution_count": null,
   "metadata": {},
   "outputs": [],
   "source": []
  },
  {
   "cell_type": "code",
   "execution_count": null,
   "metadata": {},
   "outputs": [],
   "source": []
  }
 ],
 "metadata": {
  "kernelspec": {
   "display_name": "Python 3",
   "language": "python",
   "name": "python3"
  },
  "language_info": {
   "codemirror_mode": {
    "name": "ipython",
    "version": 3
   },
   "file_extension": ".py",
   "mimetype": "text/x-python",
   "name": "python",
   "nbconvert_exporter": "python",
   "pygments_lexer": "ipython3",
   "version": "3.8.8"
  }
 },
 "nbformat": 4,
 "nbformat_minor": 4
}
